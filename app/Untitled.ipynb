{
 "cells": [
  {
   "cell_type": "code",
   "execution_count": 41,
   "metadata": {
    "collapsed": true
   },
   "outputs": [],
   "source": [
    "import os\n",
    "from vlc import *\n",
    "import hashlib\n",
    "\n",
    "class EventHook(object):\n",
    "\tdef __init__(self):\n",
    "\t\tself.__handlers = []\n",
    "\n",
    "\tdef __iadd__(self, handler):\n",
    "\t\tself.__handlers.append(handler)\n",
    "\t\treturn self\n",
    "\n",
    "\tdef __isub__(self, handler):\n",
    "\t\tself.__handlers.remove(handler)\n",
    "\t\treturn self\n",
    "\n",
    "\tdef fire(self, *args, **keywargs):\n",
    "\t\tfor handler in self.__handlers:\n",
    "\t\t\thandler(*args, **keywargs)\n",
    "\n",
    "class MediaLibrary():\n",
    "    def __init__(self, import_path = \".\"):\n",
    "        instance = Instance()\n",
    "        self.lib = []\n",
    "        for root, dirs, files in os.walk(import_path, topdown=False):\n",
    "            for name in files:\n",
    "                if name.endswith(\".mp3\"):\n",
    "                    self.lib.append(AudioMedia(instance, os.path.join(root, name)))\n",
    "    \n",
    "    def search(self, needle):\n",
    "        results = []\n",
    "        for media in self.lib:\n",
    "            matching = [(key, val) for key, val in media.meta.items() \n",
    "                        if (val is not None and needle is not None) and (needle.lower() in str(val).lower())]\n",
    "            if len(matching) > 0:\n",
    "                results.append(media)\n",
    "        return results\n",
    "\n",
    "\n",
    "class AudioMedia():\n",
    "    def get_hash(self):\n",
    "        return hashlib.sha256(self.media_loc.encode()).hexdigest()\n",
    "    \n",
    "    def __init__(self, vlc_instance, media):\n",
    "        if (os.path.isfile(media)):\n",
    "            self.instance = vlc_instance\n",
    "            self.media_loc = media\n",
    "            self.media = self.instance.media_new(media)\n",
    "            self.media.parse()\n",
    "            self.meta = self._get_media_meta()\n",
    "            self.art_path = None\n",
    "            self.on_art_ready = EventHook()\n",
    "        else: \n",
    "            raise IOError('File ' + media + ' not found')\n",
    "\n",
    "    def fetch_media_art(self):\n",
    "        if self.art_path is not None:\n",
    "            return self.art_path\n",
    "\n",
    "        if (self.meta[\"Artist\"] is None) or (self.meta[\"Album\"] is None):\n",
    "            return None\n",
    "\n",
    "        artdir = \"artlib\"\n",
    "\n",
    "        path_concat = os.path.join(\"static\", artdir)\n",
    "        if not os.path.isdir(path_concat):\n",
    "            os.makedirs(path_concat)\n",
    "\n",
    "        filename = self.meta[\"Artist\"] + \"-\" + self.meta[\"Album\"]\n",
    "        filename = unicode(unicodedata.normalize('NFKD', filename).encode('ascii', 'ignore'))\n",
    "        filename = unicode(re.sub('[^\\w\\s-]', '', filename).strip().lower())\n",
    "        filename = unicode(re.sub('[-\\s]+', '-', filename)) + \".jpg\"    \n",
    "        path_concat = os.path.join(path_concat, filename)\n",
    "        \n",
    "        if os.path.isfile(path_concat):\n",
    "            self.art_path = os.path.join(artdir, filename)\n",
    "            return self.art_path\n",
    "\n",
    "        if sacad.search_and_download(\n",
    "                self.meta[\"Artist\"], \n",
    "                self.meta[\"Album\"], \n",
    "                sacad.cover.CoverImageFormat.JPEG,\n",
    "                600,\n",
    "                25,\n",
    "                [],\n",
    "                False,\n",
    "                path_concat):\n",
    "            self.art_path = os.path.join(artdir, filename)\n",
    "            return self.art_path\n",
    "        else:\n",
    "            return None\n",
    "\n",
    "    def _get_media_meta(self):\n",
    "        meta = {}\n",
    "        for meta_code, meta_name in Meta._enum_names_.items():\n",
    "            if (meta_code != 23) and (meta_code != 24) and (meta_code != 25): #these meta codes don't work for some reason\n",
    "                meta[meta_name] = self.media.get_meta(meta_code)\n",
    "        meta[\"length\"] = self.media.get_duration()\n",
    "        return meta\n",
    "\n"
   ]
  },
  {
   "cell_type": "code",
   "execution_count": 22,
   "metadata": {
    "collapsed": false
   },
   "outputs": [
    {
     "name": "stdout",
     "output_type": "stream",
     "text": [
      "here you go\n",
      "113868031188330780213630867705826553957428895603776635249782344416048461488873\n",
      "40128193470625520\n",
      "here you go\n",
      "113868031188330780213630867705826553957428895603776635249782344416048461488873\n",
      "40128193470625520\n"
     ]
    }
   ],
   "source": [
    "import hashlib\n",
    "class AudioMedia():\n",
    "    def __init__(self):\n",
    "        self.path_hash = int(hashlib.sha256(\"lol abcd\".encode()).hexdigest(), 16)\n",
    "\n",
    "    def __hash__(self):\n",
    "        print(\"here you go\")\n",
    "        print(self.path_hash)\n",
    "        return self.path_hash\n",
    "\n",
    "    def _get_media_meta(self):\n",
    "        print(hash(self))\n",
    "\n",
    "a = AudioMedia()\n",
    "a._get_media_meta()\n",
    "print(hash(a))"
   ]
  },
  {
   "cell_type": "code",
   "execution_count": 15,
   "metadata": {
    "collapsed": false
   },
   "outputs": [
    {
     "name": "stdout",
     "output_type": "stream",
     "text": [
      "----------\n",
      "here you go\n",
      "113868031188330780213630867705826553957428895603776635249782344416048461488873\n",
      "123\n",
      "----------\n"
     ]
    }
   ],
   "source": []
  },
  {
   "cell_type": "code",
   "execution_count": 24,
   "metadata": {
    "collapsed": false
   },
   "outputs": [
    {
     "data": {
      "text/plain": [
       "True"
      ]
     },
     "execution_count": 24,
     "metadata": {},
     "output_type": "execute_result"
    }
   ],
   "source": [
    "1 >= 1"
   ]
  },
  {
   "cell_type": "code",
   "execution_count": null,
   "metadata": {
    "collapsed": true
   },
   "outputs": [],
   "source": []
  }
 ],
 "metadata": {
  "kernelspec": {
   "display_name": "Python 3",
   "language": "python",
   "name": "python3"
  },
  "language_info": {
   "codemirror_mode": {
    "name": "ipython",
    "version": 3
   },
   "file_extension": ".py",
   "mimetype": "text/x-python",
   "name": "python",
   "nbconvert_exporter": "python",
   "pygments_lexer": "ipython3",
   "version": "3.5.2"
  }
 },
 "nbformat": 4,
 "nbformat_minor": 0
}
