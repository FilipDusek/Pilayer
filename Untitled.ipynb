{
 "cells": [
  {
   "cell_type": "code",
   "execution_count": 1,
   "metadata": {
    "collapsed": true
   },
   "outputs": [],
   "source": [
    "import sqlalchemy"
   ]
  },
  {
   "cell_type": "code",
   "execution_count": 1,
   "metadata": {
    "collapsed": false
   },
   "outputs": [
    {
     "ename": "NameError",
     "evalue": "name 'BoundMetaData' is not defined",
     "output_type": "error",
     "traceback": [
      "\u001b[1;31m---------------------------------------------------------------------------\u001b[0m",
      "\u001b[1;31mNameError\u001b[0m                                 Traceback (most recent call last)",
      "\u001b[1;32m<ipython-input-1-cbb89ddbf880>\u001b[0m in \u001b[0;36m<module>\u001b[1;34m()\u001b[0m\n\u001b[0;32m      5\u001b[0m \u001b[0mdb\u001b[0m\u001b[1;33m.\u001b[0m\u001b[0mecho\u001b[0m \u001b[1;33m=\u001b[0m \u001b[1;32mFalse\u001b[0m  \u001b[1;31m# Try changing this to True and see what happens\u001b[0m\u001b[1;33m\u001b[0m\u001b[0m\n\u001b[0;32m      6\u001b[0m \u001b[1;33m\u001b[0m\u001b[0m\n\u001b[1;32m----> 7\u001b[1;33m \u001b[0mmetadata\u001b[0m \u001b[1;33m=\u001b[0m \u001b[0mBoundMetaData\u001b[0m\u001b[1;33m(\u001b[0m\u001b[0mdb\u001b[0m\u001b[1;33m)\u001b[0m\u001b[1;33m\u001b[0m\u001b[0m\n\u001b[0m\u001b[0;32m      8\u001b[0m \u001b[1;33m\u001b[0m\u001b[0m\n\u001b[0;32m      9\u001b[0m users = Table('users', metadata,\n",
      "\u001b[1;31mNameError\u001b[0m: name 'BoundMetaData' is not defined"
     ]
    }
   ],
   "source": [
    "from sqlalchemy import *\n",
    "\n",
    "db = create_engine('sqlite:///tutorial.db')\n",
    "\n",
    "db.echo = False  # Try changing this to True and see what happens\n",
    "\n",
    "metadata = BoundMetaData(db)\n",
    "\n",
    "users = Table('users', metadata,\n",
    "    Column('user_id', Integer, primary_key=True),\n",
    "    Column('name', String(40)),\n",
    "    Column('age', Integer),\n",
    "    Column('password', String),\n",
    ")\n",
    "users.create()\n",
    "\n",
    "i = users.insert()\n",
    "i.execute(name='Mary', age=30, password='secret')\n",
    "i.execute({'name': 'John', 'age': 42},\n",
    "          {'name': 'Susan', 'age': 57},\n",
    "          {'name': 'Carl', 'age': 33})\n",
    "\n",
    "s = users.select()\n",
    "rs = s.execute()\n",
    "\n",
    "row = rs.fetchone()\n",
    "print('Id:', row[0])\n",
    "print('Name:', row['name'])\n",
    "print('Age:', row.age)\n",
    "print('Password:', row[users.c.password])\n",
    "\n",
    "for row in rs:\n",
    "    print(row.name, 'is', row.age, 'years old')"
   ]
  },
  {
   "cell_type": "code",
   "execution_count": null,
   "metadata": {
    "collapsed": true
   },
   "outputs": [],
   "source": []
  }
 ],
 "metadata": {
  "kernelspec": {
   "display_name": "Python 3",
   "language": "python",
   "name": "python3"
  },
  "language_info": {
   "codemirror_mode": {
    "name": "ipython",
    "version": 3
   },
   "file_extension": ".py",
   "mimetype": "text/x-python",
   "name": "python",
   "nbconvert_exporter": "python",
   "pygments_lexer": "ipython3",
   "version": "3.5.2"
  }
 },
 "nbformat": 4,
 "nbformat_minor": 0
}
